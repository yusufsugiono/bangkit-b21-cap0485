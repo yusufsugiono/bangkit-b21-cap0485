{
 "cells": [
  {
   "cell_type": "code",
   "execution_count": 1,
   "metadata": {},
   "outputs": [],
   "source": [
    "import pandas as pd\n",
    "import numpy as np\n",
    "import os\n",
    "import re\n",
    "from tqdm import tqdm\n",
    "from datetime import datetime"
   ]
  },
  {
   "cell_type": "code",
   "execution_count": 2,
   "metadata": {},
   "outputs": [],
   "source": [
    "path = os.getcwd()\n",
    "\n",
    "bulan = {\"maret\": \"03\", \"april\": \"04\", \"mei\": \"05\", \"juni\": \"06\", \"juli\": \"07\", \"agustus\": \"08\", \n",
    "         \"september\": \"09\", \"oktober\": \"10\", \"november\": \"11\"}\n",
    "kolom_diambil = [\"nama_kota\", \"nama_kecamatan\",\"positif\"]"
   ]
  },
  {
   "cell_type": "markdown",
   "metadata": {},
   "source": [
    "## Only for months of 3,  4,  5,  6,  9, 10"
   ]
  },
  {
   "cell_type": "code",
   "execution_count": 3,
   "metadata": {},
   "outputs": [
    {
     "name": "stderr",
     "output_type": "stream",
     "text": [
      "11it [00:07,  1.55it/s]\n"
     ]
    }
   ],
   "source": [
    "#Process Data\n",
    "df = pd.DataFrame()\n",
    "for (dirpath, dirnames, filenames) in tqdm(os.walk(path)):\n",
    "    for filename in filenames:\n",
    "        if filename.endswith('.csv'):\n",
    "            temp = re.search('tanggal-(.+?)-2020', filename)\n",
    "            if temp:\n",
    "                temp2 = temp.group(1)\n",
    "                for key in bulan.keys():\n",
    "                    temp2 = temp2.replace(key, bulan[key])\n",
    "                df_temp = pd.read_csv(os.sep.join([dirpath, filename]))\n",
    "                df_temp = df_temp[kolom_diambil]\n",
    "                df_temp = df_temp.groupby([\"nama_kota\", \"nama_kecamatan\"]).sum()\n",
    "                df_temp[\"tanggal\"] = datetime.strptime(\"{}-2020\".format(temp2), '%d-%m-%Y').date()\n",
    "                df = pd.concat([df, df_temp], axis=0)"
   ]
  },
  {
   "cell_type": "code",
   "execution_count": 4,
   "metadata": {},
   "outputs": [],
   "source": [
    "#Make the dataframe tidy\n",
    "df = df.loc(axis=0)[\"JAKARTA TIMUR\"].reset_index().sort_values([\"nama_kecamatan\", \"tanggal\"]).reset_index(drop=True)"
   ]
  },
  {
   "cell_type": "code",
   "execution_count": 5,
   "metadata": {},
   "outputs": [
    {
     "data": {
      "text/html": [
       "<div>\n",
       "<style scoped>\n",
       "    .dataframe tbody tr th:only-of-type {\n",
       "        vertical-align: middle;\n",
       "    }\n",
       "\n",
       "    .dataframe tbody tr th {\n",
       "        vertical-align: top;\n",
       "    }\n",
       "\n",
       "    .dataframe thead th {\n",
       "        text-align: right;\n",
       "    }\n",
       "</style>\n",
       "<table border=\"1\" class=\"dataframe\">\n",
       "  <thead>\n",
       "    <tr style=\"text-align: right;\">\n",
       "      <th></th>\n",
       "      <th>nama_kecamatan</th>\n",
       "      <th>positif</th>\n",
       "      <th>tanggal</th>\n",
       "    </tr>\n",
       "  </thead>\n",
       "  <tbody>\n",
       "    <tr>\n",
       "      <th>1587</th>\n",
       "      <td>PULO GADUNG</td>\n",
       "      <td>1941</td>\n",
       "      <td>2020-10-29</td>\n",
       "    </tr>\n",
       "    <tr>\n",
       "      <th>1588</th>\n",
       "      <td>PULO GADUNG</td>\n",
       "      <td>1965</td>\n",
       "      <td>2020-10-30</td>\n",
       "    </tr>\n",
       "    <tr>\n",
       "      <th>1589</th>\n",
       "      <td>PULO GADUNG</td>\n",
       "      <td>1978</td>\n",
       "      <td>2020-10-31</td>\n",
       "    </tr>\n",
       "  </tbody>\n",
       "</table>\n",
       "</div>"
      ],
      "text/plain": [
       "     nama_kecamatan  positif     tanggal\n",
       "1587    PULO GADUNG     1941  2020-10-29\n",
       "1588    PULO GADUNG     1965  2020-10-30\n",
       "1589    PULO GADUNG     1978  2020-10-31"
      ]
     },
     "execution_count": 5,
     "metadata": {},
     "output_type": "execute_result"
    }
   ],
   "source": [
    "df.tail(3)"
   ]
  },
  {
   "cell_type": "markdown",
   "metadata": {},
   "source": [
    "## The rest of the months (7 and 11)"
   ]
  },
  {
   "cell_type": "markdown",
   "metadata": {},
   "source": [
    "### July"
   ]
  },
  {
   "cell_type": "code",
   "execution_count": 6,
   "metadata": {},
   "outputs": [
    {
     "name": "stderr",
     "output_type": "stream",
     "text": [
      "11it [00:00, 999.94it/s]\n",
      "1it [00:01,  1.25s/it]\n"
     ]
    }
   ],
   "source": [
    "#Process Data\n",
    "df_2 = pd.DataFrame()\n",
    "for (dirpath, dirnames, filenames) in tqdm(os.walk(path)):\n",
    "    for dirname in dirnames:\n",
    "        if dirname.endswith(\"Juli\"):\n",
    "            path_july = os.sep.join([dirpath, dirname])\n",
    "            break\n",
    "\n",
    "for (dirpath, dirnames, filenames) in tqdm(os.walk(path_july)):\n",
    "    for filename in filenames:\n",
    "        tanggal = re.search(\"\\((.+?)\\)\", filename).group(1)\n",
    "        if filename.endswith('.csv'):\n",
    "            df_2_temp = pd.read_csv(os.sep.join([dirpath, filename]))\n",
    "            df_2_temp = df_2_temp[kolom_diambil]\n",
    "            df_2_temp = df_2_temp.groupby([\"nama_kota\", \"nama_kecamatan\"]).sum()\n",
    "            df_2_temp[\"tanggal\"] = datetime.strptime(\"{}-07-2020\".format(tanggal), '%d-%m-%Y').date()\n",
    "            df_2 = pd.concat([df_2, df_2_temp], axis=0)"
   ]
  },
  {
   "cell_type": "code",
   "execution_count": 7,
   "metadata": {},
   "outputs": [],
   "source": [
    "#Make the dataframe tidy\n",
    "df_2 = df_2.loc(axis=0)[\"JAKARTA TIMUR\"].reset_index().sort_values([\"nama_kecamatan\", \"tanggal\"]).reset_index(drop=True)"
   ]
  },
  {
   "cell_type": "markdown",
   "metadata": {},
   "source": [
    "### November"
   ]
  },
  {
   "cell_type": "code",
   "execution_count": 8,
   "metadata": {},
   "outputs": [
    {
     "name": "stderr",
     "output_type": "stream",
     "text": [
      "11it [00:00, 916.61it/s]\n",
      "1it [00:01,  1.30s/it]\n"
     ]
    }
   ],
   "source": [
    "#Process Data\n",
    "for (dirpath, dirnames, filenames) in tqdm(os.walk(path)):\n",
    "    for dirname in dirnames:\n",
    "        if dirname.endswith(\"November\"):\n",
    "            path_nov = os.sep.join([dirpath, dirname])\n",
    "            break\n",
    "\n",
    "df_3 = pd.DataFrame()\n",
    "for (dirpath, dirnames, filenames) in tqdm(os.walk(path_nov)):\n",
    "    for filename in filenames:\n",
    "        if filename.endswith('.csv'):\n",
    "            temp = filename[-20:-4]\n",
    "            for key in bulan.keys():\n",
    "                temp = temp.replace(key, bulan[key])\n",
    "            df_3_temp = pd.read_csv(os.sep.join([dirpath, filename]))\n",
    "            df_3_temp = df_3_temp[kolom_diambil]\n",
    "            df_3_temp = df_3_temp.groupby([\"nama_kota\", \"nama_kecamatan\"]).sum()\n",
    "            df_3_temp[\"tanggal\"] = datetime.strptime(temp, '%d-%m-%Y').date()\n",
    "            df_3 = pd.concat([df_3, df_3_temp], axis=0)"
   ]
  },
  {
   "cell_type": "code",
   "execution_count": 9,
   "metadata": {},
   "outputs": [],
   "source": [
    "#Make the dataframe tidy\n",
    "df_3 = df_3.loc(axis=0)[\"JAKARTA TIMUR\"].reset_index().sort_values([\"nama_kecamatan\", \"tanggal\"]).reset_index(drop=True)"
   ]
  },
  {
   "cell_type": "markdown",
   "metadata": {},
   "source": [
    "# Combine All Data"
   ]
  },
  {
   "cell_type": "code",
   "execution_count": 10,
   "metadata": {},
   "outputs": [],
   "source": [
    "#Final Data with adding missing dates\n",
    "df_final_temp = pd.concat([df, df_2, df_3], axis=0, sort=False)"
   ]
  },
  {
   "cell_type": "code",
   "execution_count": 11,
   "metadata": {},
   "outputs": [],
   "source": [
    "#Filling missing dates with NaN values\n",
    "df_final = pd.DataFrame()\n",
    "for region, df_region in df_final_temp.groupby('nama_kecamatan'):\n",
    "    temp = df_region.set_index(\"tanggal\").asfreq(\"D\")\n",
    "    temp[[\"nama_kecamatan\"]] = temp[[\"nama_kecamatan\"]].fillna(region)\n",
    "    temp[\"positif\"].interpolate(method=\"akima\", inplace=True)\n",
    "    temp[\"positif\"] = temp[\"positif\"].astype(\"int\")\n",
    "    df_final = pd.concat([df_final, temp], axis=0)\n",
    "df_final = df_final.reset_index().sort_values(by=[\"nama_kecamatan\", \"tanggal\"]).reset_index(drop=True)"
   ]
  },
  {
   "cell_type": "markdown",
   "metadata": {},
   "source": [
    "## Save the Data!"
   ]
  },
  {
   "cell_type": "code",
   "execution_count": 12,
   "metadata": {},
   "outputs": [],
   "source": [
    "df_final.to_csv(\"data_all_region.csv\", index=False)"
   ]
  }
 ],
 "metadata": {
  "kernelspec": {
   "display_name": "Python 3",
   "language": "python",
   "name": "python3"
  },
  "language_info": {
   "codemirror_mode": {
    "name": "ipython",
    "version": 3
   },
   "file_extension": ".py",
   "mimetype": "text/x-python",
   "name": "python",
   "nbconvert_exporter": "python",
   "pygments_lexer": "ipython3",
   "version": "3.7.3"
  }
 },
 "nbformat": 4,
 "nbformat_minor": 2
}
