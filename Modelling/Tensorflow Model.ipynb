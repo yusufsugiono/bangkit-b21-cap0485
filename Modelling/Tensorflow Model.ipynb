{
 "cells": [
  {
   "cell_type": "markdown",
   "metadata": {},
   "source": [
    "# Preparation"
   ]
  },
  {
   "cell_type": "code",
   "execution_count": 1,
   "metadata": {},
   "outputs": [
    {
     "name": "stdout",
     "output_type": "stream",
     "text": [
      "2.5.0\n"
     ]
    }
   ],
   "source": [
    "import tensorflow as tf\n",
    "import numpy as np\n",
    "import matplotlib.pyplot as plt\n",
    "import pandas as pd\n",
    "from tqdm import tqdm\n",
    "print(tf.__version__)\n",
    "\n",
    "SEED = 1234\n",
    "NUM_FORECASTS = 7 #7 days"
   ]
  },
  {
   "cell_type": "markdown",
   "metadata": {},
   "source": [
    "# Load Data and Build Functions"
   ]
  },
  {
   "cell_type": "code",
   "execution_count": 2,
   "metadata": {},
   "outputs": [],
   "source": [
    "#Load data and assign datetime\n",
    "dataset = pd.read_csv(\"data_all_region.csv\")\n",
    "dataset[\"tanggal\"] = pd.to_datetime(dataset[\"tanggal\"], format=\"%Y/%m/%d\")"
   ]
  },
  {
   "cell_type": "code",
   "execution_count": 3,
   "metadata": {},
   "outputs": [],
   "source": [
    "def windowed_dataset(series, window_size, batch_size, shuffle_buffer):\n",
    "    series = tf.expand_dims(series, axis=-1)\n",
    "    ds = tf.data.Dataset.from_tensor_slices(series)\n",
    "    ds = ds.window(window_size + 1, shift=1, drop_remainder=True)\n",
    "    ds = ds.flat_map(lambda w: w.batch(window_size + 1))\n",
    "    ds = ds.shuffle(shuffle_buffer)\n",
    "    ds = ds.map(lambda w: (w[:-1], w[1:]))\n",
    "    return ds.batch(batch_size).prefetch(1)"
   ]
  },
  {
   "cell_type": "code",
   "execution_count": 4,
   "metadata": {},
   "outputs": [],
   "source": [
    "def model_forecast(model, series, batch_size, window_size):\n",
    "    ds = tf.data.Dataset.from_tensor_slices(series)\n",
    "    ds = ds.window(window_size, shift=1, drop_remainder=True)\n",
    "    ds = ds.flat_map(lambda w: w.batch(window_size))\n",
    "    ds = ds.batch(batch_size).prefetch(1)\n",
    "    forecast = model.predict(ds)\n",
    "    return forecast"
   ]
  },
  {
   "cell_type": "markdown",
   "metadata": {},
   "source": [
    "# Preparation for Modelling"
   ]
  },
  {
   "cell_type": "code",
   "execution_count": 5,
   "metadata": {},
   "outputs": [],
   "source": [
    "window_size = 30\n",
    "batch_size = 8\n",
    "shuffle_buffer_size = 1000"
   ]
  },
  {
   "cell_type": "markdown",
   "metadata": {},
   "source": [
    "## Check Model Performance on One Region (Cakung)"
   ]
  },
  {
   "cell_type": "code",
   "execution_count": 6,
   "metadata": {},
   "outputs": [],
   "source": [
    "ds_cakung = dataset[dataset[\"nama_kecamatan\"] == \"CAKUNG\"]\n",
    "series = ds_cakung[\"positif\"].values\n",
    "time = ds_cakung.index.values + 1"
   ]
  },
  {
   "cell_type": "code",
   "execution_count": 7,
   "metadata": {},
   "outputs": [],
   "source": [
    "split_time = int(0.9 * len(series))\n",
    "time_train = time[:split_time]\n",
    "x_train = series[:split_time]\n",
    "time_valid = time[split_time:]\n",
    "x_valid = series[split_time:]"
   ]
  },
  {
   "cell_type": "code",
   "execution_count": 8,
   "metadata": {},
   "outputs": [
    {
     "name": "stdout",
     "output_type": "stream",
     "text": [
      "<PrefetchDataset shapes: ((None, None, 1), (None, None, 1)), types: (tf.int64, tf.int64)>\n",
      "(225,)\n"
     ]
    },
    {
     "name": "stderr",
     "output_type": "stream",
     "text": [
      "C:\\Users\\Vandi\\Anaconda3\\lib\\site-packages\\tensorflow\\python\\keras\\optimizer_v2\\optimizer_v2.py:375: UserWarning: The `lr` argument is deprecated, use `learning_rate` instead.\n",
      "  \"The `lr` argument is deprecated, use `learning_rate` instead.\")\n"
     ]
    }
   ],
   "source": [
    "tf.keras.backend.clear_session()\n",
    "tf.random.set_seed(SEED)\n",
    "np.random.seed(SEED)\n",
    "\n",
    "train_set = windowed_dataset(x_train, window_size, batch_size, shuffle_buffer_size)\n",
    "print(train_set)\n",
    "print(x_train.shape)\n",
    "\n",
    "model = tf.keras.models.Sequential([\n",
    "  tf.keras.layers.Dense(64, activation=\"relu\", input_shape = [None, 1]),\n",
    "  tf.keras.layers.Dense(32, activation=\"relu\"),\n",
    "  tf.keras.layers.Dense(16, activation=\"relu\"),\n",
    "  tf.keras.layers.Dense(1)\n",
    "])\n",
    "\n",
    "optimizer = tf.keras.optimizers.Adam(lr=0.00005)\n",
    "model.compile(loss=tf.keras.losses.MeanAbsolutePercentageError(),\n",
    "              optimizer=optimizer,\n",
    "              metrics=[\"mse\", \"mae\"])\n",
    "history = model.fit(train_set, epochs=50, verbose=0)"
   ]
  },
  {
   "cell_type": "markdown",
   "metadata": {},
   "source": [
    "### Check Performance on Test"
   ]
  },
  {
   "cell_type": "code",
   "execution_count": 9,
   "metadata": {},
   "outputs": [],
   "source": [
    "rnn_forecast = model_forecast(model, series[:, np.newaxis], batch_size, window_size)\n",
    "rnn_forecast = rnn_forecast[split_time - window_size:-1, -1, 0]"
   ]
  },
  {
   "cell_type": "code",
   "execution_count": 10,
   "metadata": {},
   "outputs": [],
   "source": [
    "def plot_series(time, series, format=\"-\", start=0, end=None, label=None):\n",
    "    plt.plot(time[start:end], series[start:end], format, label=label)\n",
    "    plt.xlabel(\"Time\")\n",
    "    plt.ylabel(\"Value\")\n",
    "    plt.grid(True)"
   ]
  },
  {
   "cell_type": "code",
   "execution_count": 11,
   "metadata": {},
   "outputs": [
    {
     "data": {
      "text/plain": [
       "<matplotlib.legend.Legend at 0x3c27ffd0>"
      ]
     },
     "execution_count": 11,
     "metadata": {},
     "output_type": "execute_result"
    },
    {
     "data": {
      "image/png": "[encoded data removed]",
      "text/plain": [
       "<Figure size 720x432 with 1 Axes>"
      ]
     },
     "metadata": {
      "needs_background": "light"
     },
     "output_type": "display_data"
    }
   ],
   "source": [
    "plt.figure(figsize=(10, 6))\n",
    "plot_series(time_valid, x_valid, label=\"True\")\n",
    "plot_series(time_valid, rnn_forecast, label=\"Forecasts\")\n",
    "plt.legend()"
   ]
  },
  {
   "cell_type": "markdown",
   "metadata": {},
   "source": [
    "### Check Performance on Both Training and Testing"
   ]
  },
  {
   "cell_type": "code",
   "execution_count": 12,
   "metadata": {},
   "outputs": [],
   "source": [
    "rnn_forecast = model_forecast(model, series[:, np.newaxis], batch_size, window_size)\n",
    "rnn_forecast = rnn_forecast[:split_time - window_size, -1, 0]"
   ]
  },
  {
   "cell_type": "code",
   "execution_count": 13,
   "metadata": {},
   "outputs": [
    {
     "data": {
      "text/plain": [
       "<matplotlib.legend.Legend at 0x3c52ca90>"
      ]
     },
     "execution_count": 13,
     "metadata": {},
     "output_type": "execute_result"
    },
    {
     "data": {
      "image/png": "[encoded data removed]",
      "text/plain": [
       "<Figure size 720x432 with 1 Axes>"
      ]
     },
     "metadata": {
      "needs_background": "light"
     },
     "output_type": "display_data"
    }
   ],
   "source": [
    "plt.figure(figsize=(10, 6))\n",
    "plot_series(time_train[window_size:], x_train[window_size:], label=\"True_Train\")\n",
    "plot_series(time_train[window_size:], rnn_forecast[:], label=\"Forecast_Train\")\n",
    "\n",
    "rnn_forecast_2 = model_forecast(model, series[:, np.newaxis], batch_size, window_size)\n",
    "rnn_forecast_2 = rnn_forecast_2[split_time - window_size:-1, -1, 0]\n",
    "\n",
    "plot_series(time_valid, x_valid, label=\"True_Test\")\n",
    "plot_series(time_valid, rnn_forecast_2, label=\"Forecast_Test\")\n",
    "\n",
    "plt.legend()"
   ]
  },
  {
   "cell_type": "code",
   "execution_count": 14,
   "metadata": {},
   "outputs": [
    {
     "name": "stdout",
     "output_type": "stream",
     "text": [
      "MAPE on tests: 0.69400996\n",
      "MAPE on train: 1.4293511\n",
      "MSE on tests: 653.3853\n",
      "MSE on train: 305.2319\n"
     ]
    }
   ],
   "source": [
    "#Mape Metrics\n",
    "print(\"MAPE on tests:\",tf.keras.metrics.mean_absolute_percentage_error(x_valid, rnn_forecast_2).numpy())\n",
    "print(\"MAPE on train:\",tf.keras.metrics.mean_absolute_percentage_error(x_train[window_size:], rnn_forecast).numpy())\n",
    "print(\"MSE on tests:\",tf.keras.metrics.mean_squared_error(x_valid, rnn_forecast_2).numpy())\n",
    "print(\"MSE on train:\",tf.keras.metrics.mean_squared_error(x_train[window_size:], rnn_forecast).numpy())"
   ]
  },
  {
   "cell_type": "markdown",
   "metadata": {},
   "source": [
    "# Proceed to All Region and Forecast"
   ]
  },
  {
   "cell_type": "code",
   "execution_count": 15,
   "metadata": {},
   "outputs": [
    {
     "name": "stderr",
     "output_type": "stream",
     "text": [
      "100%|██████████████████████████████████████████| 10/10 [01:09<00:00,  6.92s/it]\n"
     ]
    }
   ],
   "source": [
    "output_data = pd.DataFrame(columns = [\"kecamatan\", \"tanggal\", \"prediksi\"])\n",
    "for i in tqdm(dataset[\"nama_kecamatan\"].unique()):\n",
    "    #Preparing Data\n",
    "    ds_temp = dataset[dataset[\"nama_kecamatan\"] == i]\n",
    "    x_train = ds_temp[\"positif\"].values\n",
    "    time = ds_temp[\"tanggal\"].values[-1]\n",
    "    \n",
    "    #Buld Model\n",
    "    tf.keras.backend.clear_session()\n",
    "    tf.random.set_seed(SEED)\n",
    "    np.random.seed(SEED)\n",
    "    \n",
    "    train_set = windowed_dataset(x_train, window_size, batch_size, shuffle_buffer_size)\n",
    "\n",
    "    model = tf.keras.models.Sequential([\n",
    "      tf.keras.layers.Dense(64, activation=\"relu\", input_shape = [None, 1]),\n",
    "      tf.keras.layers.Dense(32, activation=\"relu\"),\n",
    "      tf.keras.layers.Dense(16, activation=\"relu\"),\n",
    "      tf.keras.layers.Dense(1)\n",
    "    ])\n",
    "\n",
    "    optimizer = tf.keras.optimizers.Adam(lr=0.00005)\n",
    "    model.compile(loss=tf.keras.losses.MeanAbsolutePercentageError(),\n",
    "                  optimizer=optimizer,\n",
    "                  metrics=[\"mse\", \"mae\"])\n",
    "    history = model.fit(train_set, epochs=50, verbose=0)\n",
    "    \n",
    "    #Forecasting\n",
    "    data_temp = series.copy()\n",
    "    for j in range(NUM_FORECASTS):\n",
    "        rnn_forecast = model_forecast(model, data_temp[-window_size:, np.newaxis], 8, window_size)\n",
    "        rnn_forecast = rnn_forecast[:, -1, 0]\n",
    "        data_temp = np.append(data_temp, round(rnn_forecast[0]))\n",
    "        time += np.timedelta64(1,'D')\n",
    "        output_data = output_data.append({\"kecamatan\":i, \"tanggal\":time,\n",
    "                                        \"prediksi\":round(rnn_forecast[0])}, \n",
    "                                        ignore_index=True)    "
   ]
  },
  {
   "cell_type": "code",
   "execution_count": 16,
   "metadata": {},
   "outputs": [
    {
     "data": {
      "text/html": [
       "<div>\n",
       "<style scoped>\n",
       "    .dataframe tbody tr th:only-of-type {\n",
       "        vertical-align: middle;\n",
       "    }\n",
       "\n",
       "    .dataframe tbody tr th {\n",
       "        vertical-align: top;\n",
       "    }\n",
       "\n",
       "    .dataframe thead th {\n",
       "        text-align: right;\n",
       "    }\n",
       "</style>\n",
       "<table border=\"1\" class=\"dataframe\">\n",
       "  <thead>\n",
       "    <tr style=\"text-align: right;\">\n",
       "      <th></th>\n",
       "      <th>kecamatan</th>\n",
       "      <th>tanggal</th>\n",
       "      <th>prediksi</th>\n",
       "    </tr>\n",
       "  </thead>\n",
       "  <tbody>\n",
       "    <tr>\n",
       "      <th>46</th>\n",
       "      <td>MAKASAR</td>\n",
       "      <td>2020-12-05</td>\n",
       "      <td>3948</td>\n",
       "    </tr>\n",
       "    <tr>\n",
       "      <th>57</th>\n",
       "      <td>PASAR REBO</td>\n",
       "      <td>2020-12-02</td>\n",
       "      <td>3775</td>\n",
       "    </tr>\n",
       "    <tr>\n",
       "      <th>33</th>\n",
       "      <td>JATINEGARA</td>\n",
       "      <td>2020-12-06</td>\n",
       "      <td>3979</td>\n",
       "    </tr>\n",
       "    <tr>\n",
       "      <th>36</th>\n",
       "      <td>KRAMAT JATI</td>\n",
       "      <td>2020-12-02</td>\n",
       "      <td>3775</td>\n",
       "    </tr>\n",
       "    <tr>\n",
       "      <th>6</th>\n",
       "      <td>CAKUNG</td>\n",
       "      <td>2020-12-07</td>\n",
       "      <td>4099</td>\n",
       "    </tr>\n",
       "  </tbody>\n",
       "</table>\n",
       "</div>"
      ],
      "text/plain": [
       "      kecamatan    tanggal prediksi\n",
       "46      MAKASAR 2020-12-05     3948\n",
       "57   PASAR REBO 2020-12-02     3775\n",
       "33   JATINEGARA 2020-12-06     3979\n",
       "36  KRAMAT JATI 2020-12-02     3775\n",
       "6        CAKUNG 2020-12-07     4099"
      ]
     },
     "execution_count": 16,
     "metadata": {},
     "output_type": "execute_result"
    }
   ],
   "source": [
    "output_data.sample(5)"
   ]
  },
  {
   "cell_type": "markdown",
   "metadata": {},
   "source": [
    "### Save the Output File"
   ]
  },
  {
   "cell_type": "code",
   "execution_count": 17,
   "metadata": {},
   "outputs": [],
   "source": [
    "output_data.to_csv(\"final_output.csv\", index=False)"
   ]
  }
 ],
 "metadata": {
  "kernelspec": {
   "display_name": "Python 3",
   "language": "python",
   "name": "python3"
  },
  "language_info": {
   "codemirror_mode": {
    "name": "ipython",
    "version": 3
   },
   "file_extension": ".py",
   "mimetype": "text/x-python",
   "name": "python",
   "nbconvert_exporter": "python",
   "pygments_lexer": "ipython3",
   "version": "3.7.3"
  }
 },
 "nbformat": 4,
 "nbformat_minor": 2
}
